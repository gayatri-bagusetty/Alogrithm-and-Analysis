{
  "nbformat": 4,
  "nbformat_minor": 0,
  "metadata": {
    "colab": {
      "provenance": [],
      "authorship_tag": "ABX9TyMjFWySJYYSo4oBwDf7WrqM",
      "include_colab_link": true
    },
    "kernelspec": {
      "name": "python3",
      "display_name": "Python 3"
    },
    "language_info": {
      "name": "python"
    }
  },
  "cells": [
    {
      "cell_type": "markdown",
      "metadata": {
        "id": "view-in-github",
        "colab_type": "text"
      },
      "source": [
        "<a href=\"https://colab.research.google.com/github/gayatri-bagusetty/Alogrithm-and-Analysis/blob/main/Strassen_Algorithm_for_matrix_multiplication.ipynb\" target=\"_parent\"><img src=\"https://colab.research.google.com/assets/colab-badge.svg\" alt=\"Open In Colab\"/></a>"
      ]
    },
    {
      "cell_type": "code",
      "execution_count": 1,
      "metadata": {
        "colab": {
          "base_uri": "https://localhost:8080/"
        },
        "id": "s-ryG17Zz8NN",
        "outputId": "12560800-5d6a-4b4e-c15d-fb83bb2f04ec"
      },
      "outputs": [
        {
          "output_type": "stream",
          "name": "stdout",
          "text": [
            "Matrix A:\n",
            "[[ 1  2  3  4]\n",
            " [ 5  6  7  8]\n",
            " [ 9 10 11 12]\n",
            " [13 14 15 16]]\n",
            "\n",
            "Matrix B:\n",
            "[[16 15 14 13]\n",
            " [12 11 10  9]\n",
            " [ 8  7  6  5]\n",
            " [ 4  3  2  1]]\n",
            "\n",
            "Result of Strassen's Matrix Multiplication:\n",
            "[[ 80  70  60  50]\n",
            " [240 214 188 162]\n",
            " [400 358 316 274]\n",
            " [560 502 444 386]]\n"
          ]
        }
      ],
      "source": [
        "import numpy as np\n",
        "\n",
        "def split(matrix):\n",
        "  row, col = matrix.shape\n",
        "  row2, col2 = row // 2, col // 2\n",
        "  return matrix[:row2, :col2], matrix[:row2, col2:], matrix[row2:, :col2], matrix[row2:, col2:]\n",
        "\n",
        "def strassen(A,B):\n",
        "  if A.shape == (1,1):\n",
        "    return A * B\n",
        "\n",
        "  A11, A12, A21, A22 = split(A)\n",
        "  B11, B12, B21, B22 = split(B)\n",
        "\n",
        "  M1 = strassen(A11 + A22, B11 + B22)\n",
        "  M2 = strassen(A21 + A22, B11)\n",
        "  M3 = strassen(A11, B12 - B22)\n",
        "  M4 = strassen(A22, B21 - B11)\n",
        "  M5 = strassen(A11 + A12, B22)\n",
        "  M6 = strassen(A21 - A11, B11 + B12)\n",
        "  M7 = strassen(A12 - A22, B21 + B22)\n",
        "\n",
        "  C11 = M1 + M4 - M5 + M7\n",
        "  C12 = M3 + M5\n",
        "  C21 = M2 + M4\n",
        "  C22 = M1 + M3 - M2 + M6\n",
        "\n",
        "  top = np.hstack((C11, C12))\n",
        "  bottom = np.hstack((C21, C22))\n",
        "  return np.vstack((top, bottom))\n",
        "\n",
        "def multiply_strassen_4x4(A, B):\n",
        "  assert A.shape == (4,4) and B.shape == (4,4)\n",
        "  return strassen(A, B)\n",
        "\n",
        "A = np.array([[1,2,3,4],[5,6,7,8],[9,10,11,12],[13,14,15,16]])\n",
        "B = np.array([[16,15,14,13],[12,11,10,9],[8,7,6,5],[4,3,2,1]])\n",
        "result = multiply_strassen_4x4(A, B)\n",
        "\n",
        "print(\"Matrix A:\")\n",
        "print(A)\n",
        "print(\"\\nMatrix B:\")\n",
        "print(B)\n",
        "print(\"\\nResult of Strassen's Matrix Multiplication:\")\n",
        "print(result)"
      ]
    }
  ]
}