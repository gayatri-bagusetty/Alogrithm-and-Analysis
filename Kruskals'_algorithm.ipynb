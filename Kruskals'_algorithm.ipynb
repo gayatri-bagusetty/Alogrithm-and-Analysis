{
  "nbformat": 4,
  "nbformat_minor": 0,
  "metadata": {
    "colab": {
      "provenance": [],
      "authorship_tag": "ABX9TyMU6vRJ42eliRWAhQN833mD",
      "include_colab_link": true
    },
    "kernelspec": {
      "name": "python3",
      "display_name": "Python 3"
    },
    "language_info": {
      "name": "python"
    }
  },
  "cells": [
    {
      "cell_type": "markdown",
      "metadata": {
        "id": "view-in-github",
        "colab_type": "text"
      },
      "source": [
        "<a href=\"https://colab.research.google.com/github/gayatri-bagusetty/Alogrithm-and-Analysis/blob/main/Kruskals'_algorithm.ipynb\" target=\"_parent\"><img src=\"https://colab.research.google.com/assets/colab-badge.svg\" alt=\"Open In Colab\"/></a>"
      ]
    },
    {
      "cell_type": "code",
      "execution_count": 2,
      "metadata": {
        "colab": {
          "base_uri": "https://localhost:8080/"
        },
        "id": "t-yBLq0gUNvT",
        "outputId": "3c2875f3-0168-4c01-8c39-f9180c83941c"
      },
      "outputs": [
        {
          "output_type": "stream",
          "name": "stdout",
          "text": [
            "5 - 0: 10\n",
            "2 - 3: 12\n",
            "1 - 6: 14\n"
          ]
        }
      ],
      "source": [
        "class Graph:\n",
        "  def __init__(self, vertices):\n",
        "      self.V = vertices\n",
        "      self.graph = []\n",
        "\n",
        "  def add_edge(self, u, v, w):\n",
        "      self.graph.append([u, v, w])\n",
        "\n",
        "  # Search function\n",
        "  def find(self, parent, i):\n",
        "      if parent[i] == i:\n",
        "        return i\n",
        "      return self.find(parent, parent[i])\n",
        "\n",
        "  def apply_union(self, parent, rank, x, y):\n",
        "      xroot = self.find(parent, x)\n",
        "      yroot = self.find(parent, y)\n",
        "      if rank[xroot] < rank[yroot]:\n",
        "        parent[xroot] = yroot\n",
        "      elif rank[xroot] > rank[yroot]:\n",
        "        parent[yroot] = xroot\n",
        "      else:\n",
        "        parent[yroot] = xroot\n",
        "        rank[xroot] += 1\n",
        "\n",
        "  def kruskal_mst(self):\n",
        "    result = []\n",
        "    i, e = 0, 0\n",
        "    self.graph = sorted(self.graph, key=lambda item: item[2])\n",
        "    parent = []\n",
        "    rank = []\n",
        "    for node in range(7):\n",
        "      parent.append(node)\n",
        "      rank.append(0)\n",
        "\n",
        "    while e < self.V - 1:\n",
        "      u, v, w = self.graph[i]\n",
        "      # print(u,v,w)\n",
        "      i = i + 1\n",
        "      x = self.find(parent, u)\n",
        "      y = self.find(parent, v)\n",
        "      if x != y:\n",
        "        e = e + 1\n",
        "        result.append([u, v, w])\n",
        "        self.apply_union(parent, rank, x, y)\n",
        "\n",
        "    for u,v, weight in result:\n",
        "      print(\"%d - %d: %d\" % (u,v,weight))\n",
        "\n",
        "g = Graph(4)\n",
        "g.add_edge(0, 1, 28)\n",
        "g.add_edge(1, 2, 16)\n",
        "g.add_edge(1, 6, 14)\n",
        "g.add_edge(2, 3, 12)\n",
        "g.add_edge(3, 4, 22)\n",
        "g.add_edge(3, 6, 18)\n",
        "g.add_edge(4, 5, 25)\n",
        "g.add_edge(4, 6, 24)\n",
        "g.add_edge(5, 0, 10)\n",
        "g.kruskal_mst()"
      ]
    }
  ]
}