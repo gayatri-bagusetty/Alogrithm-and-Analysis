{
  "nbformat": 4,
  "nbformat_minor": 0,
  "metadata": {
    "colab": {
      "provenance": [],
      "authorship_tag": "ABX9TyMfnGgdgTCR3pTyLmCWwH5X",
      "include_colab_link": true
    },
    "kernelspec": {
      "name": "python3",
      "display_name": "Python 3"
    },
    "language_info": {
      "name": "python"
    }
  },
  "cells": [
    {
      "cell_type": "markdown",
      "metadata": {
        "id": "view-in-github",
        "colab_type": "text"
      },
      "source": [
        "<a href=\"https://colab.research.google.com/github/gayatri-bagusetty/Alogrithm-and-Analysis/blob/main/DFS.ipynb\" target=\"_parent\"><img src=\"https://colab.research.google.com/assets/colab-badge.svg\" alt=\"Open In Colab\"/></a>"
      ]
    },
    {
      "cell_type": "markdown",
      "source": [
        "Time Complexity: O(V+E)"
      ],
      "metadata": {
        "id": "ZIu4Wdthhgy9"
      }
    },
    {
      "cell_type": "code",
      "execution_count": null,
      "metadata": {
        "id": "5iN4SKcMhe9a"
      },
      "outputs": [],
      "source": [
        "def DFS(graph,V,src):\n",
        "  visited = [False] * V\n",
        "  stack = []\n",
        "  stack.append(src)\n",
        "  visited[src] = True\n",
        "  path =[]\n",
        "\n",
        "  while stack :\n",
        "    u = stack.pop()\n",
        "    path.append(u)\n",
        "    for v in graph.get(u,[]):\n",
        "      if visited[v] == False:\n",
        "        stack.append(v)\n",
        "        visited[v] = True\n",
        "  return path\n",
        "\n",
        "graph = {0:[1,2], 1:[3], 2:[4,5], 3:[], 4:[], 5:[] }\n",
        "V = 6\n",
        "src = 0\n",
        "print(DFS(graph,V,src))"
      ]
    }
  ]
}