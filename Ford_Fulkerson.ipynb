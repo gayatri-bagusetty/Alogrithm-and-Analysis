{
  "nbformat": 4,
  "nbformat_minor": 0,
  "metadata": {
    "colab": {
      "provenance": [],
      "authorship_tag": "ABX9TyP9OjcKSyvwKmXVS87KZvRR",
      "include_colab_link": true
    },
    "kernelspec": {
      "name": "python3",
      "display_name": "Python 3"
    },
    "language_info": {
      "name": "python"
    }
  },
  "cells": [
    {
      "cell_type": "markdown",
      "metadata": {
        "id": "view-in-github",
        "colab_type": "text"
      },
      "source": [
        "<a href=\"https://colab.research.google.com/github/gayatri-bagusetty/Alogrithm-and-Analysis/blob/main/Ford_Fulkerson.ipynb\" target=\"_parent\"><img src=\"https://colab.research.google.com/assets/colab-badge.svg\" alt=\"Open In Colab\"/></a>"
      ]
    },
    {
      "cell_type": "markdown",
      "source": [
        "DFS ITERATIVE"
      ],
      "metadata": {
        "id": "QnPPpMhQmx5V"
      }
    },
    {
      "cell_type": "code",
      "execution_count": null,
      "metadata": {
        "colab": {
          "base_uri": "https://localhost:8080/"
        },
        "id": "qdZuLN-qmVl7",
        "outputId": "4c0bf3fe-d787-4d5c-dc62-bc589684ada6"
      },
      "outputs": [
        {
          "output_type": "stream",
          "name": "stdout",
          "text": [
            "path  [(0, 2), (2, 4), (4, 5)]\n",
            "Ford Fulkerson algorithm using iterative dfs\n",
            "max flow value is  8\n"
          ]
        }
      ],
      "source": [
        "def dfs_iterative(C,F,s,t):\n",
        "  stack = [s]\n",
        "  paths = {s:[]}\n",
        "  if s == t:\n",
        "    return paths[s]\n",
        "  while(stack):\n",
        "    u = stack.pop()\n",
        "    for v in range(len(C)):\n",
        "      if(C[u][v]-F[u][v] >0 and v not in paths):\n",
        "        paths[v] = paths[u] + [(u,v)]\n",
        "        if v == t:\n",
        "          return paths[v]\n",
        "        stack.append(v)\n",
        "  return None\n",
        "\n",
        "def max_flow(C,s,t):\n",
        "  n = len(C)\n",
        "  F = [[0]*n for i in range(n)]\n",
        "  path = dfs_iterative(C,F,s,t)\n",
        "  print(\"path \",path)\n",
        "  while(path!=None):\n",
        "    flow = min(C[u][v]-F[u][v] for u,v in path)\n",
        "    for u,v in path:\n",
        "      F[u][v] += flow\n",
        "      F[v][u] -= flow\n",
        "    path = dfs_iterative(C,F,s,t)\n",
        "  return sum(F[s][i] for i in range(n))\n",
        "\n",
        "C = [\n",
        "    [0,3,7,0,0,0],\n",
        "    [0,0,0,3,4,0],\n",
        "    [0,5,0,0,3,0],\n",
        "    [0,0,0,0,3,2],\n",
        "    [0,0,0,0,0,6],\n",
        "    [0,0,0,0,0,0]\n",
        "]\n",
        "\n",
        "source = 0\n",
        "sink = len(C) - 1\n",
        "\n",
        "max_flow_value = max_flow(C,source, sink)\n",
        "print(\"Ford Fulkerson algorithm using iterative dfs\")\n",
        "print(\"max flow value is \",max_flow_value)"
      ]
    },
    {
      "cell_type": "markdown",
      "source": [
        "DFS RECURSIVE"
      ],
      "metadata": {
        "id": "Rvm-Peatqtro"
      }
    },
    {
      "cell_type": "code",
      "source": [
        "def dfs_recursive(C, F, u, t, path):\n",
        "    # If we reach the sink, return the path found so far\n",
        "    if u == t:\n",
        "        return path\n",
        "    for v in range(len(C)):\n",
        "        # Check if there's available capacity and if 'v' is not in the current path\n",
        "        if (C[u][v] - F[u][v] > 0) and (v not in [p[1] for p in path]):\n",
        "            # Recursive call to continue searching from the next node\n",
        "            result = dfs_recursive(C, F, v, t, path + [(u, v)])\n",
        "            # If a path is found, return it\n",
        "            if result is not None:\n",
        "                return result\n",
        "    return None # No path found\n",
        "\n",
        "def max_flow(C, s, t):\n",
        "    n = len(C) # C is the capacity matrix\n",
        "    F = [[0] * n for i in range(n)] # Initialize flow matrix\n",
        "    path = dfs_recursive(C, F, s, t, []) # Start recursive DFS from source 's'\n",
        "    print(\"path \", path)\n",
        "    while path is not None:\n",
        "        # Calculate the flow in the current path as the minimum residual capacity\n",
        "        flow = min(C[u][v] - F[u][v] for u, v in path)\n",
        "        # Update residual capacities along the path\n",
        "        for u, v in path:\n",
        "            F[u][v] += flow\n",
        "            F[v][u] -= flow\n",
        "        path = dfs_recursive(C, F, s, t, []) # Find the next augmenting path\n",
        "        print(\"path \", path)\n",
        "    return sum(F[s][i] for i in range(n)) # Total flow from source\n",
        "\n",
        "# Test with the provided capacity matrix\n",
        "C = [\n",
        "    [0, 3, 7, 0, 0, 0], # Edges from source S to other vertices\n",
        "    [0, 0, 0, 3, 4, 0],\n",
        "    [0, 5, 0, 0, 3, 0],\n",
        "    [0, 0, 0, 0, 3, 2],\n",
        "    [0, 0, 0, 0, 0, 6],\n",
        "    [0, 0, 0, 0, 0, 0] # Sink T's row (no edges leaving T)\n",
        "]\n",
        "\n",
        "source = 0\n",
        "sink = len(C) - 1\n",
        "\n",
        "max_flow_value = max_flow(C, source, sink)\n",
        "print(\"Ford-Fulkerson algorithm using recursive dfs\")\n",
        "print(\"max_flow_value is:\", max_flow_value)"
      ],
      "metadata": {
        "colab": {
          "base_uri": "https://localhost:8080/"
        },
        "id": "_PFCsfk8qwU4",
        "outputId": "691c6356-c597-4435-f54e-993116f3906c"
      },
      "execution_count": null,
      "outputs": [
        {
          "output_type": "stream",
          "name": "stdout",
          "text": [
            "path  [(0, 1), (1, 3), (3, 4), (4, 5)]\n",
            "path  [(0, 2), (2, 1), (1, 4), (4, 3), (3, 5)]\n",
            "path  [(0, 2), (2, 1), (1, 4), (4, 5)]\n",
            "path  [(0, 2), (2, 4), (4, 5)]\n",
            "path  None\n",
            "Ford-Fulkerson algorithm using recursive dfs\n",
            "max_flow_value is: 8\n"
          ]
        }
      ]
    },
    {
      "cell_type": "markdown",
      "source": [
        "DFS"
      ],
      "metadata": {
        "id": "WsFaKVtesrKF"
      }
    },
    {
      "cell_type": "code",
      "source": [
        "import numpy as np\n",
        "from collections import deque\n",
        "\n",
        "def ford_fulkerson(graph, source, sink):\n",
        "    vertex_count = len(graph)\n",
        "    residual_graph = np.copy(graph)  # Create a copy of the graph for the residual graph\n",
        "    parent = [-1] * vertex_count\n",
        "    max_flow = 0\n",
        "\n",
        "    # Run the DFS as long as there is an augmenting path\n",
        "    while dfs(residual_graph, source, sink, parent):\n",
        "        path_flow = float('Inf')\n",
        "        v = sink\n",
        "        path_string = \"\"\n",
        "\n",
        "        # Find the minimum capacity in the augmenting path\n",
        "        while v != source:\n",
        "            u = parent[v]\n",
        "            path_flow = min(path_flow, residual_graph[u][v])\n",
        "            path_string = f\" --> {v}\" + path_string\n",
        "            v = u\n",
        "\n",
        "        path_string = f\"S\" + path_string\n",
        "        print(f\"Augmentation path:\\n {path_string}\")\n",
        "        print(f\"Bottleneck (min flow added to max flow) = {path_flow}\\n\")\n",
        "\n",
        "        # Update the residual capacities of the edges and reverse edges along the path\n",
        "        v = sink\n",
        "        while v != source:\n",
        "            u = parent[v]\n",
        "            residual_graph[u][v] -= path_flow\n",
        "            residual_graph[v][u] += path_flow\n",
        "            v = u\n",
        "\n",
        "        # Add path flow to overall flow\n",
        "        max_flow += path_flow\n",
        "\n",
        "    return max_flow\n",
        "\n",
        "def dfs(residual_graph, source, sink, parent):\n",
        "    vertex_count = len(residual_graph)\n",
        "    visited = [False] * vertex_count\n",
        "    stack = deque([source])\n",
        "    visited[source] = True\n",
        "    parent[source] = -1\n",
        "\n",
        "    # Standard DFS loop\n",
        "    while stack:\n",
        "        u = stack.pop()\n",
        "        for v in range(vertex_count):\n",
        "            # Check if vertex v has not been visited and if there is a positive capacity from u to v\n",
        "            if not visited[v] and residual_graph[u][v] > 0:\n",
        "                stack.append(v)\n",
        "                parent[v] = u\n",
        "                visited[v] = True\n",
        "\n",
        "                if v == sink:  # If we reach the sink, return True\n",
        "                    return True\n",
        "\n",
        "    return False\n",
        "\n",
        "# Example graph represented as an adjacency matrix\n",
        "graph = [\n",
        "    [0,10,5,15,0,0,0,0],\n",
        "    [0,0,4,0,9,15,0,0],\n",
        "    [0,0,0,4,0,8,0,0],\n",
        "    [0,0,0,0,0,0,30,0],\n",
        "    [0,0,0,0,0,15,0,10],\n",
        "    [0,0,0,0,0,0,15,10],\n",
        "    [0,0,6,0,0,0,0,10],\n",
        "    [0,0,0,0,0,0,0,0]\n",
        "]\n",
        "\n",
        "source = 0\n",
        "sink = len(graph) - 1\n",
        "\n",
        "# Run Ford-Fulkerson algorithm to compute max flow\n",
        "max_flow = ford_fulkerson(graph, source, sink)\n",
        "print(f\"Maximum flow: {max_flow}\")\n"
      ],
      "metadata": {
        "colab": {
          "base_uri": "https://localhost:8080/"
        },
        "id": "g_XvPsfXsumM",
        "outputId": "96059c34-abb7-4697-818e-f02fcfa5af64"
      },
      "execution_count": null,
      "outputs": [
        {
          "output_type": "stream",
          "name": "stdout",
          "text": [
            "Augmentation path:\n",
            " S --> 3 --> 6 --> 7\n",
            "Bottleneck (min flow added to max flow) = 10\n",
            "\n",
            "Augmentation path:\n",
            " S --> 2 --> 5 --> 7\n",
            "Bottleneck (min flow added to max flow) = 5\n",
            "\n",
            "Augmentation path:\n",
            " S --> 3 --> 6 --> 2 --> 5 --> 7\n",
            "Bottleneck (min flow added to max flow) = 3\n",
            "\n",
            "Augmentation path:\n",
            " S --> 1 --> 5 --> 7\n",
            "Bottleneck (min flow added to max flow) = 2\n",
            "\n",
            "Augmentation path:\n",
            " S --> 1 --> 4 --> 7\n",
            "Bottleneck (min flow added to max flow) = 8\n",
            "\n",
            "Maximum flow: 28\n"
          ]
        }
      ]
    }
  ]
}