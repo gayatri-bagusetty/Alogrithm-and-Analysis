{
  "nbformat": 4,
  "nbformat_minor": 0,
  "metadata": {
    "colab": {
      "provenance": [],
      "authorship_tag": "ABX9TyNm+tUTbguXjMYvNpOsA9sI",
      "include_colab_link": true
    },
    "kernelspec": {
      "name": "python3",
      "display_name": "Python 3"
    },
    "language_info": {
      "name": "python"
    }
  },
  "cells": [
    {
      "cell_type": "markdown",
      "metadata": {
        "id": "view-in-github",
        "colab_type": "text"
      },
      "source": [
        "<a href=\"https://colab.research.google.com/github/gayatri-bagusetty/Alogrithm-and-Analysis/blob/main/Dijkstra's_algorithm.ipynb\" target=\"_parent\"><img src=\"https://colab.research.google.com/assets/colab-badge.svg\" alt=\"Open In Colab\"/></a>"
      ]
    },
    {
      "cell_type": "markdown",
      "source": [
        "Time complexity is O(V+E(log V))"
      ],
      "metadata": {
        "id": "fjyp_2Fof_Eb"
      }
    },
    {
      "cell_type": "code",
      "execution_count": null,
      "metadata": {
        "colab": {
          "base_uri": "https://localhost:8080/"
        },
        "id": "nn490CgVeLEB",
        "outputId": "7686abc2-0d53-4df4-ffcf-5ccfa10870f5"
      },
      "outputs": [
        {
          "output_type": "stream",
          "name": "stdout",
          "text": [
            "Distances:  {0: 0, 1: 4, 2: 12, 3: 19, 4: 21, 5: 11, 6: 9, 7: 8, 8: 14}\n",
            "Predecessors:  {0: None, 1: 0, 2: 1, 3: 2, 4: 5, 5: 6, 6: 7, 7: 0, 8: 2}\n"
          ]
        }
      ],
      "source": [
        "import heapq\n",
        "\n",
        "def dijkstra(graph, start):\n",
        "    dist = {vertex: float('infinity') for vertex in graph}\n",
        "    prev = {vertex: None for vertex in graph}\n",
        "    dist[start] = 0\n",
        "    priority_queue = [(0, start)]\n",
        "\n",
        "    while priority_queue:\n",
        "      current_dist, u = heapq.heappop(priority_queue)\n",
        "      if current_dist > dist[u]:\n",
        "        continue\n",
        "      for neighbor, weight in graph[u]:\n",
        "        distance = current_dist + weight\n",
        "        if distance < dist[neighbor]:\n",
        "          dist[neighbor] = distance\n",
        "          prev[neighbor] = u\n",
        "          heapq.heappush(priority_queue, (distance, neighbor))\n",
        "\n",
        "    return dist, prev\n",
        "\n",
        "graph = {\n",
        "    0: [(1, 4), (7, 8)],\n",
        "    1: [(0, 4), (2, 8), (7, 11)],\n",
        "    2: [(1, 8), (3, 7), (5, 4), (8, 2)],\n",
        "    3: [(2, 7), (4, 9), (5, 14)],\n",
        "    4: [(3, 9), (5, 10)],\n",
        "    5: [(2, 4), (3, 14), (4, 10), (6, 2)],\n",
        "    6: [(5, 2), (7, 1), (8, 6)],\n",
        "    7: [(0, 8), (1, 11), (6, 1), (8, 7)],\n",
        "    8: [(2, 2), (6, 6), (7, 7)]\n",
        "}\n",
        "\n",
        "start_vertex = 0\n",
        "distances, predecessors = dijkstra(graph, start_vertex)\n",
        "print(\"Distances: \",distances)\n",
        "print(\"Predecessors: \",predecessors)"
      ]
    }
  ]
}