{
  "nbformat": 4,
  "nbformat_minor": 0,
  "metadata": {
    "colab": {
      "provenance": [],
      "authorship_tag": "ABX9TyPy6XVt64R6/z9KxXAwtD1k",
      "include_colab_link": true
    },
    "kernelspec": {
      "name": "python3",
      "display_name": "Python 3"
    },
    "language_info": {
      "name": "python"
    }
  },
  "cells": [
    {
      "cell_type": "markdown",
      "metadata": {
        "id": "view-in-github",
        "colab_type": "text"
      },
      "source": [
        "<a href=\"https://colab.research.google.com/github/gayatri-bagusetty/Alogrithm-and-Analysis/blob/main/BFS.ipynb\" target=\"_parent\"><img src=\"https://colab.research.google.com/assets/colab-badge.svg\" alt=\"Open In Colab\"/></a>"
      ]
    },
    {
      "cell_type": "markdown",
      "source": [
        "Time Complexity: O(V+E)"
      ],
      "metadata": {
        "id": "O0isd5SbhHSE"
      }
    },
    {
      "cell_type": "code",
      "execution_count": null,
      "metadata": {
        "colab": {
          "base_uri": "https://localhost:8080/"
        },
        "id": "MsH3cjMJhFhn",
        "outputId": "04f4d89a-38df-44a7-86d3-e69e35e44d81"
      },
      "outputs": [
        {
          "output_type": "stream",
          "name": "stdout",
          "text": [
            "[0, 1, 2, 3, 4, 5]\n"
          ]
        }
      ],
      "source": [
        "def BFS(graph,V,src):\n",
        "  visited = [False] * V\n",
        "  queue = []\n",
        "  queue.append(src)\n",
        "  visited[src] = True\n",
        "  path =[]\n",
        "\n",
        "  while queue :\n",
        "    u = queue.pop(0)\n",
        "    # print(u , end =\"\")\n",
        "    path.append(u)\n",
        "    for v in graph.get(u,[]):\n",
        "      if visited[v] == False:\n",
        "        queue.append(v)\n",
        "        visited[v] = True\n",
        "  return path\n",
        "\n",
        "graph = {0:[1,2], 1:[3], 2:[4,5], 3:[], 4:[], 5:[] }\n",
        "V = 6\n",
        "src = 0\n",
        "print(BFS(graph,V,src))"
      ]
    }
  ]
}