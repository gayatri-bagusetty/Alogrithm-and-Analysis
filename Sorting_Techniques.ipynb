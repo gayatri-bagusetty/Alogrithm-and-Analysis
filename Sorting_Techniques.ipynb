{
  "nbformat": 4,
  "nbformat_minor": 0,
  "metadata": {
    "colab": {
      "provenance": [],
      "authorship_tag": "ABX9TyP2+KdbmVOx95KEndYYZJxI",
      "include_colab_link": true
    },
    "kernelspec": {
      "name": "python3",
      "display_name": "Python 3"
    },
    "language_info": {
      "name": "python"
    }
  },
  "cells": [
    {
      "cell_type": "markdown",
      "metadata": {
        "id": "view-in-github",
        "colab_type": "text"
      },
      "source": [
        "<a href=\"https://colab.research.google.com/github/gayatri-bagusetty/Alogrithm-and-Analysis/blob/main/Sorting_Techniques.ipynb\" target=\"_parent\"><img src=\"https://colab.research.google.com/assets/colab-badge.svg\" alt=\"Open In Colab\"/></a>"
      ]
    },
    {
      "cell_type": "markdown",
      "source": [
        "# **SELECTION SORTING**\n",
        "Time complexity :\n",
        "Best/Avg/Worst case = O(n2)"
      ],
      "metadata": {
        "id": "2N-cMiac1Zp1"
      }
    },
    {
      "cell_type": "code",
      "source": [
        "def select_sort(A,size):\n",
        "  for i in range(size - 1):\n",
        "    min_index = i\n",
        "    for j in range(i + 1,size):\n",
        "      if A[j] < A[min_index]:\n",
        "        min_index = j\n",
        "    if min_index != i:\n",
        "      A[i],A[min_index] = A[min_index],A[i]\n",
        "  return A\n",
        "\n",
        "A = [12,10,16,11,9,7]\n",
        "size = len(A)\n",
        "print(\"Sorted array is \")\n",
        "print(select_sort(A,size))"
      ],
      "metadata": {
        "colab": {
          "base_uri": "https://localhost:8080/"
        },
        "id": "Dwtou2kn1W4t",
        "outputId": "a80cf787-d83f-4fcd-f486-836d67be68b0"
      },
      "execution_count": null,
      "outputs": [
        {
          "output_type": "stream",
          "name": "stdout",
          "text": [
            "Sorted array is \n",
            "[7, 9, 10, 11, 12, 16]\n"
          ]
        }
      ]
    },
    {
      "cell_type": "markdown",
      "source": [
        "# **QUICK SORTING**\n",
        "\n",
        "Time complexity:\n",
        "Best/Avg case = O(log(n))\n",
        "Worst case = O(n2)\n",
        "\n",
        "\n",
        "\n",
        "\n"
      ],
      "metadata": {
        "id": "gFc_99Ey2aVq"
      }
    },
    {
      "cell_type": "code",
      "source": [
        "def quickSort(A,low,high):\n",
        "  if low < high:\n",
        "    pivot_index = partition(A,low,high)\n",
        "    quickSort(A,low,pivot_index-1)\n",
        "    quickSort(A,pivot_index+1,high)\n",
        "\n",
        "def partition(A,low,high):\n",
        "  pivot = A[high]\n",
        "  i = low - 1\n",
        "  for j in range(low,high):\n",
        "    if A[j] <= pivot:\n",
        "      i += 1\n",
        "      A[i],A[j] = A[j],A[i]\n",
        "  A[i+1],A[high] = A[high],A[i+1]\n",
        "\n",
        "  return i+1\n",
        "\n",
        "A = [15,76,66,97,30,87,34]\n",
        "low = 0\n",
        "high = len(A) - 1\n",
        "quickSort(A,low,high)\n",
        "print(\"Sorted Array is \",A)"
      ],
      "metadata": {
        "colab": {
          "base_uri": "https://localhost:8080/"
        },
        "id": "3EZSHLN32dzQ",
        "outputId": "25aabe67-8bba-4747-f705-b03a56560448"
      },
      "execution_count": null,
      "outputs": [
        {
          "output_type": "stream",
          "name": "stdout",
          "text": [
            "Sorted Array is  [15, 30, 34, 66, 76, 87, 97]\n"
          ]
        }
      ]
    },
    {
      "cell_type": "markdown",
      "source": [
        "# **Bubble Sorting**\n",
        "Time Complexity:\n",
        "Best case = O(n)\n",
        "Avg/worst case = O(n2)\n",
        "\n",
        "\n",
        "\n",
        "\n"
      ],
      "metadata": {
        "id": "L9RkSWekIxCh"
      }
    },
    {
      "cell_type": "code",
      "source": [
        "def bubbleSort(A):\n",
        "  for i in range(0,len(A)-1):\n",
        "    for j in range(0,len(A)-i-1):\n",
        "      if A[j] > A[j+1]:\n",
        "        A[j],A[j+1] = A[j+1],A[j]\n",
        "    return A\n",
        "\n",
        "A = [6,0,3,5]\n",
        "print(bubbleSort(A))"
      ],
      "metadata": {
        "colab": {
          "base_uri": "https://localhost:8080/"
        },
        "id": "bbHIHyFhIwQa",
        "outputId": "55cb8641-a630-4eb4-ed65-e9dcd7395cf6"
      },
      "execution_count": null,
      "outputs": [
        {
          "output_type": "stream",
          "name": "stdout",
          "text": [
            "[0, 3, 5, 6]\n"
          ]
        }
      ]
    },
    {
      "cell_type": "markdown",
      "source": [
        "# **Insertion Sorting**\n",
        "Time complexity:\n",
        "Best case = O(n)\n",
        "Avg/Worst case = O(n2)\n",
        "\n",
        "\n",
        "\n",
        "\n"
      ],
      "metadata": {
        "id": "b_Traw14MkSn"
      }
    },
    {
      "cell_type": "code",
      "source": [
        "def insertSort(A):\n",
        "  for i in range(1,len(A)):\n",
        "    key = A[i]\n",
        "    j = i - 1\n",
        "    while j >= 0 and key < A[j]:\n",
        "      A[j+1] = A[j]\n",
        "      j -= 1\n",
        "    A[j+1] = key\n",
        "  return A\n",
        "\n",
        "A = [6,0,3,5]\n",
        "print(insertSort(A))"
      ],
      "metadata": {
        "colab": {
          "base_uri": "https://localhost:8080/"
        },
        "id": "sFLYQuAvNR9N",
        "outputId": "6878441b-ca0c-4b4f-f865-dac4bcf7d345"
      },
      "execution_count": null,
      "outputs": [
        {
          "output_type": "stream",
          "name": "stdout",
          "text": [
            "[0, 3, 5, 6]\n"
          ]
        }
      ]
    },
    {
      "cell_type": "markdown",
      "source": [
        "# **Merge Sorting**\n",
        "Time complexity:\n",
        "Best/Avg/Worst case = O(nlog(n))\n",
        "\n",
        "\n"
      ],
      "metadata": {
        "id": "mARlY9fYPnlK"
      }
    },
    {
      "cell_type": "code",
      "source": [
        "def merge(A,start,mid,end):\n",
        "  n1 = mid - start + 1\n",
        "  n2 = end - mid\n",
        "  L = [0] * n1\n",
        "  R = [0] * n2\n",
        "\n",
        "  for i in range(0,n1):\n",
        "    L[i] = A[start + i]\n",
        "  for j in range(0,n2):\n",
        "    R[j] = A[mid + 1 + j]\n",
        "\n",
        "  i = 0\n",
        "  j = 0\n",
        "  k = start\n",
        "  while i < n1 and j < n2:\n",
        "    if L[i] <= R[j]:\n",
        "      A[k] = L[i]\n",
        "      i += 1\n",
        "    else:\n",
        "      A[k] = R[j]\n",
        "      j += 1\n",
        "    k += 1\n",
        "\n",
        "  while i < n1:\n",
        "    A[k] = L[i]\n",
        "    i += 1\n",
        "    k += 1\n",
        "\n",
        "  while j < n2:\n",
        "    A[k] = R[j]\n",
        "    j += 1\n",
        "    k += 1\n",
        "\n",
        "def mergesort(A,start,end):\n",
        "  if start < end:\n",
        "    mid = (start + end) // 2\n",
        "    mergesort(A,start,mid)\n",
        "    mergesort(A,mid+1,end)\n",
        "    merge(A,start,mid,end)\n",
        "  return A\n",
        "A = [6,0,3,5,8,2,9]\n",
        "start = 0\n",
        "end = len(A) - 1\n",
        "print(mergesort(A,start,end))"
      ],
      "metadata": {
        "colab": {
          "base_uri": "https://localhost:8080/"
        },
        "id": "UHAnZlnfPq3x",
        "outputId": "577c488f-439b-4a8b-af67-b69d65938168"
      },
      "execution_count": null,
      "outputs": [
        {
          "output_type": "stream",
          "name": "stdout",
          "text": [
            "[0, 2, 3, 5, 6, 8, 9]\n"
          ]
        }
      ]
    },
    {
      "cell_type": "markdown",
      "source": [
        "# **Heap Sorting**\n",
        "Time complexity:\n",
        "Best/Avg/Worst case = O(nlog(n))\n",
        "\n",
        "\n",
        "\n"
      ],
      "metadata": {
        "id": "tjxQjJ1nZXCH"
      }
    },
    {
      "cell_type": "code",
      "source": [
        "def heapify(A,n,i):\n",
        "  largest = i\n",
        "  l = 2 * i + 1\n",
        "  r = 2 * i + 2\n",
        "  if l < n and A[i] < A[l]:\n",
        "    largest = l\n",
        "  if r < n and A[largest] < A[r]:\n",
        "    largest = r\n",
        "  if largest != i:\n",
        "    A[i],A[largest] = A[largest],A[i]\n",
        "    heapify(A,n,largest)\n",
        "\n",
        "\n",
        "def build_maxheap(A,n):\n",
        "  for i in range(n//2 - 1,-1,-1):\n",
        "    heapify(A,n,i)\n",
        "\n",
        "def heapSort(A):\n",
        "  n = len(A)\n",
        "  build_maxheap(A,n)\n",
        "  for i in range(n-1,0,-1):\n",
        "    A[i],A[0] = A[0],A[i]\n",
        "    heapify(A,i,0)\n",
        "\n",
        "A = [1,12,9,5,6,10]\n",
        "heapSort(A)\n",
        "print(A)"
      ],
      "metadata": {
        "id": "7kzgnNs3ZdfH",
        "colab": {
          "base_uri": "https://localhost:8080/"
        },
        "outputId": "57037717-c2b0-4120-abf0-bf654382cea4"
      },
      "execution_count": null,
      "outputs": [
        {
          "output_type": "stream",
          "name": "stdout",
          "text": [
            "[1, 5, 6, 9, 10, 12]\n"
          ]
        }
      ]
    }
  ]
}