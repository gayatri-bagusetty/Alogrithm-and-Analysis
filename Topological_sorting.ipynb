{
  "nbformat": 4,
  "nbformat_minor": 0,
  "metadata": {
    "colab": {
      "provenance": [],
      "authorship_tag": "ABX9TyOyewzxwLZ/tHdAr4dH4WoQ",
      "include_colab_link": true
    },
    "kernelspec": {
      "name": "python3",
      "display_name": "Python 3"
    },
    "language_info": {
      "name": "python"
    }
  },
  "cells": [
    {
      "cell_type": "markdown",
      "metadata": {
        "id": "view-in-github",
        "colab_type": "text"
      },
      "source": [
        "<a href=\"https://colab.research.google.com/github/gayatri-bagusetty/Alogrithm-and-Analysis/blob/main/Topological_sorting.ipynb\" target=\"_parent\"><img src=\"https://colab.research.google.com/assets/colab-badge.svg\" alt=\"Open In Colab\"/></a>"
      ]
    },
    {
      "cell_type": "markdown",
      "source": [
        "Time complexity: O(V+E)"
      ],
      "metadata": {
        "id": "4JAF8y19g4AP"
      }
    },
    {
      "cell_type": "code",
      "execution_count": null,
      "metadata": {
        "colab": {
          "base_uri": "https://localhost:8080/"
        },
        "id": "MXiG5IuVgqTT",
        "outputId": "1a0fdecf-543b-4c97-8a23-0e9d9a70921b"
      },
      "outputs": [
        {
          "output_type": "stream",
          "name": "stdout",
          "text": [
            "Topological sorting of the graph: 5 4 2 3 1 0 "
          ]
        }
      ],
      "source": [
        "def topologicalSort_util(v,adj,visited,stack):\n",
        "  visited[v] = True\n",
        "  for i in adj[v]:\n",
        "    if not visited[i]:\n",
        "      topologicalSort_util(i,adj,visited,stack)\n",
        "  stack.append(v)\n",
        "\n",
        "def topologicalSort(adj, V):\n",
        "  stack = []\n",
        "  visited = [False] * V\n",
        "  for i in range(V):\n",
        "    if not visited[i]:\n",
        "      topologicalSort_util(i,adj,visited,stack)\n",
        "\n",
        "  print(\"Topological sorting of the graph:\",end =\" \")\n",
        "  while stack:\n",
        "    print(stack.pop(), end =\" \")\n",
        "\n",
        "V = 6\n",
        "edges = [[5,0],[4,0],[4,1],[3,1],[2,3],[5,2]]\n",
        "adj = [[] for _ in range(V)]\n",
        "\n",
        "for i in edges:\n",
        "  adj[i[0]].append(i[1])\n",
        "\n",
        "topologicalSort(adj,V)"
      ]
    }
  ]
}